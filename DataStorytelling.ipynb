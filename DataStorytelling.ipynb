{
 "cells": [
  {
   "cell_type": "code",
   "execution_count": 61,
   "id": "7d066fa4-d023-4b69-be6e-37e0168ef280",
   "metadata": {},
   "outputs": [],
   "source": [
    "import pandas as pd\n",
    "import matplotlib.pyplot as plt\n",
    "import seaborn as sns\n",
    "import numpy as np"
   ]
  },
  {
   "cell_type": "code",
   "execution_count": 3,
   "id": "07693d72-e854-40ea-9ce1-9c081010dce3",
   "metadata": {},
   "outputs": [],
   "source": [
    "df = pd.read_csv('StudentsPerformance.csv')"
   ]
  },
  {
   "cell_type": "code",
   "execution_count": 5,
   "id": "fc6c444a-b5df-4c43-b3f5-fec6c6c6e81e",
   "metadata": {},
   "outputs": [
    {
     "data": {
      "text/html": [
       "<div>\n",
       "<style scoped>\n",
       "    .dataframe tbody tr th:only-of-type {\n",
       "        vertical-align: middle;\n",
       "    }\n",
       "\n",
       "    .dataframe tbody tr th {\n",
       "        vertical-align: top;\n",
       "    }\n",
       "\n",
       "    .dataframe thead th {\n",
       "        text-align: right;\n",
       "    }\n",
       "</style>\n",
       "<table border=\"1\" class=\"dataframe\">\n",
       "  <thead>\n",
       "    <tr style=\"text-align: right;\">\n",
       "      <th></th>\n",
       "      <th>gender</th>\n",
       "      <th>race/ethnicity</th>\n",
       "      <th>parental level of education</th>\n",
       "      <th>lunch</th>\n",
       "      <th>test preparation course</th>\n",
       "      <th>math score</th>\n",
       "      <th>reading score</th>\n",
       "      <th>writing score</th>\n",
       "    </tr>\n",
       "  </thead>\n",
       "  <tbody>\n",
       "    <tr>\n",
       "      <th>0</th>\n",
       "      <td>female</td>\n",
       "      <td>group B</td>\n",
       "      <td>bachelor's degree</td>\n",
       "      <td>standard</td>\n",
       "      <td>none</td>\n",
       "      <td>72</td>\n",
       "      <td>72</td>\n",
       "      <td>74</td>\n",
       "    </tr>\n",
       "    <tr>\n",
       "      <th>1</th>\n",
       "      <td>female</td>\n",
       "      <td>group C</td>\n",
       "      <td>some college</td>\n",
       "      <td>standard</td>\n",
       "      <td>completed</td>\n",
       "      <td>69</td>\n",
       "      <td>90</td>\n",
       "      <td>88</td>\n",
       "    </tr>\n",
       "    <tr>\n",
       "      <th>2</th>\n",
       "      <td>female</td>\n",
       "      <td>group B</td>\n",
       "      <td>master's degree</td>\n",
       "      <td>standard</td>\n",
       "      <td>none</td>\n",
       "      <td>90</td>\n",
       "      <td>95</td>\n",
       "      <td>93</td>\n",
       "    </tr>\n",
       "    <tr>\n",
       "      <th>3</th>\n",
       "      <td>male</td>\n",
       "      <td>group A</td>\n",
       "      <td>associate's degree</td>\n",
       "      <td>free/reduced</td>\n",
       "      <td>none</td>\n",
       "      <td>47</td>\n",
       "      <td>57</td>\n",
       "      <td>44</td>\n",
       "    </tr>\n",
       "    <tr>\n",
       "      <th>4</th>\n",
       "      <td>male</td>\n",
       "      <td>group C</td>\n",
       "      <td>some college</td>\n",
       "      <td>standard</td>\n",
       "      <td>none</td>\n",
       "      <td>76</td>\n",
       "      <td>78</td>\n",
       "      <td>75</td>\n",
       "    </tr>\n",
       "    <tr>\n",
       "      <th>...</th>\n",
       "      <td>...</td>\n",
       "      <td>...</td>\n",
       "      <td>...</td>\n",
       "      <td>...</td>\n",
       "      <td>...</td>\n",
       "      <td>...</td>\n",
       "      <td>...</td>\n",
       "      <td>...</td>\n",
       "    </tr>\n",
       "    <tr>\n",
       "      <th>995</th>\n",
       "      <td>female</td>\n",
       "      <td>group E</td>\n",
       "      <td>master's degree</td>\n",
       "      <td>standard</td>\n",
       "      <td>completed</td>\n",
       "      <td>88</td>\n",
       "      <td>99</td>\n",
       "      <td>95</td>\n",
       "    </tr>\n",
       "    <tr>\n",
       "      <th>996</th>\n",
       "      <td>male</td>\n",
       "      <td>group C</td>\n",
       "      <td>high school</td>\n",
       "      <td>free/reduced</td>\n",
       "      <td>none</td>\n",
       "      <td>62</td>\n",
       "      <td>55</td>\n",
       "      <td>55</td>\n",
       "    </tr>\n",
       "    <tr>\n",
       "      <th>997</th>\n",
       "      <td>female</td>\n",
       "      <td>group C</td>\n",
       "      <td>high school</td>\n",
       "      <td>free/reduced</td>\n",
       "      <td>completed</td>\n",
       "      <td>59</td>\n",
       "      <td>71</td>\n",
       "      <td>65</td>\n",
       "    </tr>\n",
       "    <tr>\n",
       "      <th>998</th>\n",
       "      <td>female</td>\n",
       "      <td>group D</td>\n",
       "      <td>some college</td>\n",
       "      <td>standard</td>\n",
       "      <td>completed</td>\n",
       "      <td>68</td>\n",
       "      <td>78</td>\n",
       "      <td>77</td>\n",
       "    </tr>\n",
       "    <tr>\n",
       "      <th>999</th>\n",
       "      <td>female</td>\n",
       "      <td>group D</td>\n",
       "      <td>some college</td>\n",
       "      <td>free/reduced</td>\n",
       "      <td>none</td>\n",
       "      <td>77</td>\n",
       "      <td>86</td>\n",
       "      <td>86</td>\n",
       "    </tr>\n",
       "  </tbody>\n",
       "</table>\n",
       "<p>1000 rows × 8 columns</p>\n",
       "</div>"
      ],
      "text/plain": [
       "     gender race/ethnicity parental level of education         lunch  \\\n",
       "0    female        group B           bachelor's degree      standard   \n",
       "1    female        group C                some college      standard   \n",
       "2    female        group B             master's degree      standard   \n",
       "3      male        group A          associate's degree  free/reduced   \n",
       "4      male        group C                some college      standard   \n",
       "..      ...            ...                         ...           ...   \n",
       "995  female        group E             master's degree      standard   \n",
       "996    male        group C                 high school  free/reduced   \n",
       "997  female        group C                 high school  free/reduced   \n",
       "998  female        group D                some college      standard   \n",
       "999  female        group D                some college  free/reduced   \n",
       "\n",
       "    test preparation course  math score  reading score  writing score  \n",
       "0                      none          72             72             74  \n",
       "1                 completed          69             90             88  \n",
       "2                      none          90             95             93  \n",
       "3                      none          47             57             44  \n",
       "4                      none          76             78             75  \n",
       "..                      ...         ...            ...            ...  \n",
       "995               completed          88             99             95  \n",
       "996                    none          62             55             55  \n",
       "997               completed          59             71             65  \n",
       "998               completed          68             78             77  \n",
       "999                    none          77             86             86  \n",
       "\n",
       "[1000 rows x 8 columns]"
      ]
     },
     "execution_count": 5,
     "metadata": {},
     "output_type": "execute_result"
    }
   ],
   "source": [
    "df"
   ]
  },
  {
   "cell_type": "markdown",
   "id": "00e98f97-b71e-4590-ab8f-7ab713ea346b",
   "metadata": {},
   "source": [
    "It appears that the race/ethnicity column has letters (A, B, C, etc) instead of actual races and ethnicities. This makes it difficult to draw conclusions about this specific column. "
   ]
  },
  {
   "cell_type": "code",
   "execution_count": 25,
   "id": "e8afa737-87d4-476c-a972-9820d81b07c7",
   "metadata": {},
   "outputs": [],
   "source": [
    "df.rename(columns = {'parental level of education':'parental_education', 'test preparation course': 'test_prep', 'math score': 'math_score', 'reading score': 'reading_score', 'writing score': 'writing_score'}, inplace=True)"
   ]
  },
  {
   "cell_type": "code",
   "execution_count": 26,
   "id": "0100d926-3f0b-4328-9792-27044d5626b1",
   "metadata": {},
   "outputs": [
    {
     "name": "stdout",
     "output_type": "stream",
     "text": [
      "<class 'pandas.core.frame.DataFrame'>\n",
      "RangeIndex: 1000 entries, 0 to 999\n",
      "Data columns (total 8 columns):\n",
      " #   Column              Non-Null Count  Dtype \n",
      "---  ------              --------------  ----- \n",
      " 0   gender              1000 non-null   object\n",
      " 1   race/ethnicity      1000 non-null   object\n",
      " 2   parental_education  1000 non-null   object\n",
      " 3   lunch               1000 non-null   object\n",
      " 4   test_prep           1000 non-null   object\n",
      " 5   math_score          1000 non-null   int64 \n",
      " 6   reading_score       1000 non-null   int64 \n",
      " 7   writing_score       1000 non-null   int64 \n",
      "dtypes: int64(3), object(5)\n",
      "memory usage: 62.6+ KB\n"
     ]
    }
   ],
   "source": [
    "df.info()"
   ]
  },
  {
   "cell_type": "markdown",
   "id": "39c2fa43-a81a-4cea-8d79-3f048d567112",
   "metadata": {},
   "source": [
    "'df.info()' lets us know that there are 1000 entries. In each column there are 1000 non-null entries. This is good because it means we have no missing information. Another good thing to note is that there are only three numerical columns: 'math_score', 'reading_score', and 'writing_score'. "
   ]
  },
  {
   "cell_type": "code",
   "execution_count": 27,
   "id": "e18940ed-3eda-41d4-81b1-d65c9fc65760",
   "metadata": {},
   "outputs": [
    {
     "data": {
      "text/html": [
       "<div>\n",
       "<style scoped>\n",
       "    .dataframe tbody tr th:only-of-type {\n",
       "        vertical-align: middle;\n",
       "    }\n",
       "\n",
       "    .dataframe tbody tr th {\n",
       "        vertical-align: top;\n",
       "    }\n",
       "\n",
       "    .dataframe thead th {\n",
       "        text-align: right;\n",
       "    }\n",
       "</style>\n",
       "<table border=\"1\" class=\"dataframe\">\n",
       "  <thead>\n",
       "    <tr style=\"text-align: right;\">\n",
       "      <th></th>\n",
       "      <th>math_score</th>\n",
       "      <th>reading_score</th>\n",
       "      <th>writing_score</th>\n",
       "    </tr>\n",
       "  </thead>\n",
       "  <tbody>\n",
       "    <tr>\n",
       "      <th>count</th>\n",
       "      <td>1000.00000</td>\n",
       "      <td>1000.000000</td>\n",
       "      <td>1000.000000</td>\n",
       "    </tr>\n",
       "    <tr>\n",
       "      <th>mean</th>\n",
       "      <td>66.08900</td>\n",
       "      <td>69.169000</td>\n",
       "      <td>68.054000</td>\n",
       "    </tr>\n",
       "    <tr>\n",
       "      <th>std</th>\n",
       "      <td>15.16308</td>\n",
       "      <td>14.600192</td>\n",
       "      <td>15.195657</td>\n",
       "    </tr>\n",
       "    <tr>\n",
       "      <th>min</th>\n",
       "      <td>0.00000</td>\n",
       "      <td>17.000000</td>\n",
       "      <td>10.000000</td>\n",
       "    </tr>\n",
       "    <tr>\n",
       "      <th>25%</th>\n",
       "      <td>57.00000</td>\n",
       "      <td>59.000000</td>\n",
       "      <td>57.750000</td>\n",
       "    </tr>\n",
       "    <tr>\n",
       "      <th>50%</th>\n",
       "      <td>66.00000</td>\n",
       "      <td>70.000000</td>\n",
       "      <td>69.000000</td>\n",
       "    </tr>\n",
       "    <tr>\n",
       "      <th>75%</th>\n",
       "      <td>77.00000</td>\n",
       "      <td>79.000000</td>\n",
       "      <td>79.000000</td>\n",
       "    </tr>\n",
       "    <tr>\n",
       "      <th>max</th>\n",
       "      <td>100.00000</td>\n",
       "      <td>100.000000</td>\n",
       "      <td>100.000000</td>\n",
       "    </tr>\n",
       "  </tbody>\n",
       "</table>\n",
       "</div>"
      ],
      "text/plain": [
       "       math_score  reading_score  writing_score\n",
       "count  1000.00000    1000.000000    1000.000000\n",
       "mean     66.08900      69.169000      68.054000\n",
       "std      15.16308      14.600192      15.195657\n",
       "min       0.00000      17.000000      10.000000\n",
       "25%      57.00000      59.000000      57.750000\n",
       "50%      66.00000      70.000000      69.000000\n",
       "75%      77.00000      79.000000      79.000000\n",
       "max     100.00000     100.000000     100.000000"
      ]
     },
     "execution_count": 27,
     "metadata": {},
     "output_type": "execute_result"
    }
   ],
   "source": [
    "df.describe()"
   ]
  },
  {
   "cell_type": "markdown",
   "id": "380901ae-b633-41cf-943c-ecfcb4522696",
   "metadata": {},
   "source": [
    "All means are less than 70%.\n",
    "The math mean is the lowest! Reading score mean is the highest!\n",
    "\n"
   ]
  },
  {
   "cell_type": "code",
   "execution_count": 28,
   "id": "68d103ec-aed0-4ca1-ab3d-1a77823fe450",
   "metadata": {},
   "outputs": [
    {
     "data": {
      "image/png": "[encoded data removed]",
      "text/plain": [
       "<Figure size 640x480 with 1 Axes>"
      ]
     },
     "metadata": {},
     "output_type": "display_data"
    }
   ],
   "source": [
    "plt.hist(df['math_score'])\n",
    "plt.xlabel('math scores')\n",
    "plt.ylabel('frequency')\n",
    "plt.title('Frequency of Math Scores')\n",
    "plt.show()"
   ]
  },
  {
   "cell_type": "code",
   "execution_count": 29,
   "id": "03d981eb-2fa8-4b9e-91df-cdad08d25402",
   "metadata": {},
   "outputs": [
    {
     "data": {
      "image/png": "[encoded data removed]",
      "text/plain": [
       "<Figure size 640x480 with 1 Axes>"
      ]
     },
     "metadata": {},
     "output_type": "display_data"
    }
   ],
   "source": [
    "plt.hist(df['reading_score'])\n",
    "plt.xlabel('reading scores')\n",
    "plt.ylabel('frequency')\n",
    "plt.title('Frequency of Reading Scores')\n",
    "plt.show()"
   ]
  },
  {
   "cell_type": "code",
   "execution_count": 30,
   "id": "fb5dd735-527d-47ab-afc4-8f5b2a04b96b",
   "metadata": {},
   "outputs": [
    {
     "data": {
      "image/png": "[encoded data removed]",
      "text/plain": [
       "<Figure size 640x480 with 1 Axes>"
      ]
     },
     "metadata": {},
     "output_type": "display_data"
    }
   ],
   "source": [
    "plt.hist(df['writing_score'])\n",
    "plt.xlabel('writing scores')\n",
    "plt.ylabel('frequency')\n",
    "plt.title('Frequency of Writing Scores')\n",
    "plt.show()"
   ]
  },
  {
   "cell_type": "markdown",
   "id": "ed98c425-8764-4475-9a6f-72aade83f272",
   "metadata": {},
   "source": [
    "The histograms for math, reading, and writing scores are all slightly left skewed. This indicates that the scores are mostly higher. "
   ]
  },
  {
   "cell_type": "code",
   "execution_count": 32,
   "id": "bc4adedd-ac69-4cc2-b3c2-a53456e785cc",
   "metadata": {},
   "outputs": [],
   "source": [
    "# For this study, I am using a +/- gpa system. \n",
    "# 93+ = 4.0\n",
    "# 90 - 92 = 3.67\n",
    "# 87 - 89 = 3.33\n",
    "# 83 - 86 = 3.0\n",
    "# 80 - 82 = 2.67\n",
    "# 77 - 79 = 2.33\n",
    "# 73 - 76 = 2.0\n",
    "# 70 - 72 = 1.67\n",
    "# 67 - 69 = 1.33\n",
    "# 65 - 66 = 1.0\n",
    "# 0 - 64 = 0.0\n",
    "def gp_converter(score):\n",
    "    if score < 65: # F\n",
    "        return 0\n",
    "    elif score == 65 or score == 66: # D\n",
    "        return 1.0\n",
    "    elif 67 <= score <= 69: # D+\n",
    "        return 1.33\n",
    "    elif 70 <= score <= 72: # C-\n",
    "        return 1.67 \n",
    "    elif 73 <= score <= 76: # C\n",
    "        return 2.0\n",
    "    elif 77 <= score <= 79: # C+\n",
    "        return 2.33\n",
    "    elif 80 <= score <= 82: # B-\n",
    "        return 2.67\n",
    "    elif 83 <= score <= 86: # B\n",
    "        return 3.0\n",
    "    elif 87 <= score <= 89: # B+\n",
    "        return 3.33\n",
    "    elif 90 <= score <= 92: # A-\n",
    "        return 3.67\n",
    "    elif 93 <= score: # A\n",
    "        return 4.0\n",
    "\n"
   ]
  },
  {
   "cell_type": "code",
   "execution_count": 39,
   "id": "6cd90694-5caa-4293-9ee2-75acf0f01ab8",
   "metadata": {},
   "outputs": [],
   "source": [
    "gpa_list = []\n",
    "for math, reading, writing in zip(df['math_score'], df['reading_score'], df['writing_score']):\n",
    "    gpa = round((gp_converter(math) + gp_converter(reading)+ gp_converter(writing)) / 3,2)\n",
    "    gpa_list.append(gpa)\n",
    "\n",
    "df['GPA'] = gpa_list"
   ]
  },
  {
   "cell_type": "code",
   "execution_count": 40,
   "id": "0a4345f3-8e7a-448c-9467-0c05c3deabec",
   "metadata": {},
   "outputs": [
    {
     "data": {
      "text/html": [
       "<div>\n",
       "<style scoped>\n",
       "    .dataframe tbody tr th:only-of-type {\n",
       "        vertical-align: middle;\n",
       "    }\n",
       "\n",
       "    .dataframe tbody tr th {\n",
       "        vertical-align: top;\n",
       "    }\n",
       "\n",
       "    .dataframe thead th {\n",
       "        text-align: right;\n",
       "    }\n",
       "</style>\n",
       "<table border=\"1\" class=\"dataframe\">\n",
       "  <thead>\n",
       "    <tr style=\"text-align: right;\">\n",
       "      <th></th>\n",
       "      <th>gender</th>\n",
       "      <th>race/ethnicity</th>\n",
       "      <th>parental_education</th>\n",
       "      <th>lunch</th>\n",
       "      <th>test_prep</th>\n",
       "      <th>math_score</th>\n",
       "      <th>reading_score</th>\n",
       "      <th>writing_score</th>\n",
       "      <th>GPA</th>\n",
       "    </tr>\n",
       "  </thead>\n",
       "  <tbody>\n",
       "    <tr>\n",
       "      <th>0</th>\n",
       "      <td>female</td>\n",
       "      <td>group B</td>\n",
       "      <td>bachelor's degree</td>\n",
       "      <td>standard</td>\n",
       "      <td>none</td>\n",
       "      <td>72</td>\n",
       "      <td>72</td>\n",
       "      <td>74</td>\n",
       "      <td>1.78</td>\n",
       "    </tr>\n",
       "    <tr>\n",
       "      <th>1</th>\n",
       "      <td>female</td>\n",
       "      <td>group C</td>\n",
       "      <td>some college</td>\n",
       "      <td>standard</td>\n",
       "      <td>completed</td>\n",
       "      <td>69</td>\n",
       "      <td>90</td>\n",
       "      <td>88</td>\n",
       "      <td>2.78</td>\n",
       "    </tr>\n",
       "    <tr>\n",
       "      <th>2</th>\n",
       "      <td>female</td>\n",
       "      <td>group B</td>\n",
       "      <td>master's degree</td>\n",
       "      <td>standard</td>\n",
       "      <td>none</td>\n",
       "      <td>90</td>\n",
       "      <td>95</td>\n",
       "      <td>93</td>\n",
       "      <td>3.89</td>\n",
       "    </tr>\n",
       "    <tr>\n",
       "      <th>3</th>\n",
       "      <td>male</td>\n",
       "      <td>group A</td>\n",
       "      <td>associate's degree</td>\n",
       "      <td>free/reduced</td>\n",
       "      <td>none</td>\n",
       "      <td>47</td>\n",
       "      <td>57</td>\n",
       "      <td>44</td>\n",
       "      <td>0.00</td>\n",
       "    </tr>\n",
       "    <tr>\n",
       "      <th>4</th>\n",
       "      <td>male</td>\n",
       "      <td>group C</td>\n",
       "      <td>some college</td>\n",
       "      <td>standard</td>\n",
       "      <td>none</td>\n",
       "      <td>76</td>\n",
       "      <td>78</td>\n",
       "      <td>75</td>\n",
       "      <td>2.11</td>\n",
       "    </tr>\n",
       "    <tr>\n",
       "      <th>...</th>\n",
       "      <td>...</td>\n",
       "      <td>...</td>\n",
       "      <td>...</td>\n",
       "      <td>...</td>\n",
       "      <td>...</td>\n",
       "      <td>...</td>\n",
       "      <td>...</td>\n",
       "      <td>...</td>\n",
       "      <td>...</td>\n",
       "    </tr>\n",
       "    <tr>\n",
       "      <th>995</th>\n",
       "      <td>female</td>\n",
       "      <td>group E</td>\n",
       "      <td>master's degree</td>\n",
       "      <td>standard</td>\n",
       "      <td>completed</td>\n",
       "      <td>88</td>\n",
       "      <td>99</td>\n",
       "      <td>95</td>\n",
       "      <td>3.78</td>\n",
       "    </tr>\n",
       "    <tr>\n",
       "      <th>996</th>\n",
       "      <td>male</td>\n",
       "      <td>group C</td>\n",
       "      <td>high school</td>\n",
       "      <td>free/reduced</td>\n",
       "      <td>none</td>\n",
       "      <td>62</td>\n",
       "      <td>55</td>\n",
       "      <td>55</td>\n",
       "      <td>0.00</td>\n",
       "    </tr>\n",
       "    <tr>\n",
       "      <th>997</th>\n",
       "      <td>female</td>\n",
       "      <td>group C</td>\n",
       "      <td>high school</td>\n",
       "      <td>free/reduced</td>\n",
       "      <td>completed</td>\n",
       "      <td>59</td>\n",
       "      <td>71</td>\n",
       "      <td>65</td>\n",
       "      <td>0.89</td>\n",
       "    </tr>\n",
       "    <tr>\n",
       "      <th>998</th>\n",
       "      <td>female</td>\n",
       "      <td>group D</td>\n",
       "      <td>some college</td>\n",
       "      <td>standard</td>\n",
       "      <td>completed</td>\n",
       "      <td>68</td>\n",
       "      <td>78</td>\n",
       "      <td>77</td>\n",
       "      <td>2.00</td>\n",
       "    </tr>\n",
       "    <tr>\n",
       "      <th>999</th>\n",
       "      <td>female</td>\n",
       "      <td>group D</td>\n",
       "      <td>some college</td>\n",
       "      <td>free/reduced</td>\n",
       "      <td>none</td>\n",
       "      <td>77</td>\n",
       "      <td>86</td>\n",
       "      <td>86</td>\n",
       "      <td>2.78</td>\n",
       "    </tr>\n",
       "  </tbody>\n",
       "</table>\n",
       "<p>1000 rows × 9 columns</p>\n",
       "</div>"
      ],
      "text/plain": [
       "     gender race/ethnicity  parental_education         lunch  test_prep  \\\n",
       "0    female        group B   bachelor's degree      standard       none   \n",
       "1    female        group C        some college      standard  completed   \n",
       "2    female        group B     master's degree      standard       none   \n",
       "3      male        group A  associate's degree  free/reduced       none   \n",
       "4      male        group C        some college      standard       none   \n",
       "..      ...            ...                 ...           ...        ...   \n",
       "995  female        group E     master's degree      standard  completed   \n",
       "996    male        group C         high school  free/reduced       none   \n",
       "997  female        group C         high school  free/reduced  completed   \n",
       "998  female        group D        some college      standard  completed   \n",
       "999  female        group D        some college  free/reduced       none   \n",
       "\n",
       "     math_score  reading_score  writing_score   GPA  \n",
       "0            72             72             74  1.78  \n",
       "1            69             90             88  2.78  \n",
       "2            90             95             93  3.89  \n",
       "3            47             57             44  0.00  \n",
       "4            76             78             75  2.11  \n",
       "..          ...            ...            ...   ...  \n",
       "995          88             99             95  3.78  \n",
       "996          62             55             55  0.00  \n",
       "997          59             71             65  0.89  \n",
       "998          68             78             77  2.00  \n",
       "999          77             86             86  2.78  \n",
       "\n",
       "[1000 rows x 9 columns]"
      ]
     },
     "execution_count": 40,
     "metadata": {},
     "output_type": "execute_result"
    }
   ],
   "source": [
    "df"
   ]
  },
  {
   "cell_type": "code",
   "execution_count": 41,
   "id": "c0a69470-e8e0-48b6-8c40-0762320a3782",
   "metadata": {},
   "outputs": [
    {
     "data": {
      "image/png": "[encoded data removed]",
      "text/plain": [
       "<Figure size 640x480 with 1 Axes>"
      ]
     },
     "metadata": {},
     "output_type": "display_data"
    }
   ],
   "source": [
    "plt.hist(df['GPA'])\n",
    "plt.xlabel('GPA')\n",
    "plt.ylabel('frequency')\n",
    "plt.title('Frequency of GPA')\n",
    "plt.show()"
   ]
  },
  {
   "cell_type": "code",
   "execution_count": 52,
   "id": "a5483ccb-873a-48ce-a19d-58cbe1908b7a",
   "metadata": {},
   "outputs": [
    {
     "data": {
      "text/plain": [
       "GPA\n",
       "0.00    285\n",
       "0.44     37\n",
       "0.33     36\n",
       "1.78     31\n",
       "2.11     30\n",
       "Name: count, dtype: int64"
      ]
     },
     "execution_count": 52,
     "metadata": {},
     "output_type": "execute_result"
    }
   ],
   "source": [
    "counts_gpa = df['GPA'].value_counts().sort_values(ascending=False)\n",
    "counts_gpa.head(5)"
   ]
  },
  {
   "cell_type": "markdown",
   "id": "83edf374-0e82-48b4-813c-854bd2e37f1d",
   "metadata": {},
   "source": [
    "The GPA with the most counts is 0.00."
   ]
  },
  {
   "cell_type": "code",
   "execution_count": 56,
   "id": "6c4d9add-b804-452a-b0d8-187ce887363e",
   "metadata": {},
   "outputs": [
    {
     "name": "stdout",
     "output_type": "stream",
     "text": [
      "[\"bachelor's degree\" 'some college' \"master's degree\" \"associate's degree\"\n",
      " 'high school' 'some high school']\n"
     ]
    }
   ],
   "source": [
    "print(df['parental_education'].unique())"
   ]
  },
  {
   "cell_type": "code",
   "execution_count": 57,
   "id": "479126fb-377c-448b-b9b3-efc4b5e36fb2",
   "metadata": {},
   "outputs": [
    {
     "name": "stdout",
     "output_type": "stream",
     "text": [
      "['standard' 'free/reduced']\n"
     ]
    }
   ],
   "source": [
    "print(df['lunch'].unique())"
   ]
  },
  {
   "cell_type": "code",
   "execution_count": 64,
   "id": "94e14af3-ccdf-4cb1-8677-a1d2b9cc5e8b",
   "metadata": {},
   "outputs": [],
   "source": [
    "avg_bachelors_gpa = round(np.mean(df[df['parental_education']==\"bachelor's degree\"].GPA),2)\n",
    "avg_some_college_gpa = round(np.mean(df[df['parental_education']=='some college'].GPA),2)\n",
    "avg_masters_gpa = round(np.mean(df[df[\"parental_education\"]==\"master's degree\"].GPA),2)\n",
    "avg_associates_gpa = round(np.mean(df[df[\"parental_education\"]==\"associate's degree\"].GPA),2)\n",
    "avg_high_school_gpa = round(np.mean(df[df['parental_education']=='high school'].GPA),2)\n",
    "avg_some_high_school_gpa = round(np.mean(df[df['parental_education']=='some high school'].GPA),2)"
   ]
  },
  {
   "cell_type": "code",
   "execution_count": 73,
   "id": "a9988661-9e6f-4508-b466-1e9158c2a03f",
   "metadata": {},
   "outputs": [],
   "source": [
    "bachelors_subset = df[df['parental_education']==\"bachelor's degree\"]\n",
    "some_college_gpa_subset = df[df['parental_education']=='some college']\n",
    "masters_gpa_subset = df[df[\"parental_education\"]==\"master's degree\"]\n",
    "associates_gpa = df[df[\"parental_education\"]==\"associate's degree\"]\n",
    "high_school_gpa_subset = df[df['parental_education']=='high school']\n",
    "some_high_school_gp_subset = df[df['parental_education']=='some high school']"
   ]
  },
  {
   "cell_type": "code",
   "execution_count": 79,
   "id": "420cc240-e994-4de6-b413-6452a1fc2440",
   "metadata": {},
   "outputs": [
    {
     "data": {
      "text/plain": [
       "Text(0.5, 1.0, \"Lunch Types for Bachelor's Degrees\")"
      ]
     },
     "execution_count": 79,
     "metadata": {},
     "output_type": "execute_result"
    },
    {
     "data": {
      "image/png": "[encoded data removed]",
      "text/plain": [
       "<Figure size 640x480 with 1 Axes>"
      ]
     },
     "metadata": {},
     "output_type": "display_data"
    }
   ],
   "source": [
    "counts = bachelors_subset['lunch'].value_counts()\n",
    "counts.plot.pie(autopct='%1.1f%%', labels=['standard', 'free/reduced lunch'], shadow=True)\n",
    "plt.title(\"Lunch Types for Bachelor's Degrees\")"
   ]
  },
  {
   "cell_type": "code",
   "execution_count": null,
   "id": "7683d06b-d668-422b-8afb-e6f37ef5cf9b",
   "metadata": {},
   "outputs": [],
   "source": [
    "counts_sc = some_college_gpa_subset['lunch'].value_counts()\n",
    "counts.plot.pie(autopct='%1.1f%%', labels=['standard', 'free/reduced lunch'], shadow=True)\n",
    "plt.title(\"Lunch Types for Some College\")"
   ]
  }
 ],
 "metadata": {
  "kernelspec": {
   "display_name": "Python 3 (ipykernel)",
   "language": "python",
   "name": "python3"
  },
  "language_info": {
   "codemirror_mode": {
    "name": "ipython",
    "version": 3
   },
   "file_extension": ".py",
   "mimetype": "text/x-python",
   "name": "python",
   "nbconvert_exporter": "python",
   "pygments_lexer": "ipython3",
   "version": "3.9.18"
  }
 },
 "nbformat": 4,
 "nbformat_minor": 5
}
